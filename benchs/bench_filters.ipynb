{
 "cells": [
  {
   "cell_type": "code",
   "execution_count": 9,
   "metadata": {},
   "outputs": [
    {
     "name": "stdout",
     "output_type": "stream",
     "text": [
      "The autoreload extension is already loaded. To reload it, use:\n",
      "  %reload_ext autoreload\n"
     ]
    }
   ],
   "source": [
    "import sys\n",
    "sys.path.append('../')\n",
    "%load_ext autoreload\n",
    "%autoreload 2\n",
    "from clostream import CloStream\n",
    "import pandas as pd\n",
    "from utils import get_size\n",
    "%load_ext memory_profiler"
   ]
  },
  {
   "cell_type": "code",
   "execution_count": 24,
   "metadata": {},
   "outputs": [],
   "source": [
    "df= pd.read_csv('../listen-20131115.log', names=['timestamp', 'song_id', 'user_id', 'artist_id', 'provider_id', 'ip'])\n",
    "df.drop(['timestamp'], axis=1, inplace=True)"
   ]
  },
  {
   "cell_type": "code",
   "execution_count": 25,
   "metadata": {},
   "outputs": [
    {
     "data": {
      "text/html": [
       "<div>\n",
       "<style scoped>\n",
       "    .dataframe tbody tr th:only-of-type {\n",
       "        vertical-align: middle;\n",
       "    }\n",
       "\n",
       "    .dataframe tbody tr th {\n",
       "        vertical-align: top;\n",
       "    }\n",
       "\n",
       "    .dataframe thead th {\n",
       "        text-align: right;\n",
       "    }\n",
       "</style>\n",
       "<table border=\"1\" class=\"dataframe\">\n",
       "  <thead>\n",
       "    <tr style=\"text-align: right;\">\n",
       "      <th></th>\n",
       "      <th>song_id</th>\n",
       "      <th>user_id</th>\n",
       "      <th>artist_id</th>\n",
       "      <th>provider_id</th>\n",
       "      <th>ip</th>\n",
       "    </tr>\n",
       "  </thead>\n",
       "  <tbody>\n",
       "    <tr>\n",
       "      <th>0</th>\n",
       "      <td>67379305</td>\n",
       "      <td>114154335</td>\n",
       "      <td>4771782</td>\n",
       "      <td>13</td>\n",
       "      <td>151.18.141.95</td>\n",
       "    </tr>\n",
       "    <tr>\n",
       "      <th>1</th>\n",
       "      <td>67379305</td>\n",
       "      <td>114154335</td>\n",
       "      <td>4771782</td>\n",
       "      <td>13</td>\n",
       "      <td>151.18.141.95</td>\n",
       "    </tr>\n",
       "    <tr>\n",
       "      <th>2</th>\n",
       "      <td>65708036</td>\n",
       "      <td>114154335</td>\n",
       "      <td>69822</td>\n",
       "      <td>3</td>\n",
       "      <td>151.18.141.95</td>\n",
       "    </tr>\n",
       "    <tr>\n",
       "      <th>3</th>\n",
       "      <td>24276248</td>\n",
       "      <td>237213169</td>\n",
       "      <td>293587</td>\n",
       "      <td>5</td>\n",
       "      <td>188.125.103.178</td>\n",
       "    </tr>\n",
       "    <tr>\n",
       "      <th>4</th>\n",
       "      <td>68340246</td>\n",
       "      <td>309300779</td>\n",
       "      <td>811</td>\n",
       "      <td>4</td>\n",
       "      <td>151.47.102.120</td>\n",
       "    </tr>\n",
       "  </tbody>\n",
       "</table>\n",
       "</div>"
      ],
      "text/plain": [
       "    song_id    user_id  artist_id  provider_id               ip\n",
       "0  67379305  114154335    4771782           13    151.18.141.95\n",
       "1  67379305  114154335    4771782           13    151.18.141.95\n",
       "2  65708036  114154335      69822            3    151.18.141.95\n",
       "3  24276248  237213169     293587            5  188.125.103.178\n",
       "4  68340246  309300779        811            4   151.47.102.120"
      ]
     },
     "execution_count": 25,
     "metadata": {},
     "output_type": "execute_result"
    }
   ],
   "source": [
    "df.head()"
   ]
  },
  {
   "cell_type": "code",
   "execution_count": 26,
   "metadata": {},
   "outputs": [],
   "source": [
    "sample = df.head(int(1e4))"
   ]
  },
  {
   "cell_type": "code",
   "execution_count": 33,
   "metadata": {},
   "outputs": [
    {
     "name": "stdout",
     "output_type": "stream",
     "text": [
      "peak memory: 98.47 MiB, increment: 7.22 MiB\n",
      "min_size = 0, time: 9.302841901779175, closed_table of size : 8372, cid_list_map of size : 6437\n",
      "peak memory: 98.44 MiB, increment: 6.70 MiB\n",
      "min_size = 1, time: 9.153666973114014, closed_table of size : 8240, cid_list_map of size : 6437\n",
      "peak memory: 98.45 MiB, increment: 6.26 MiB\n",
      "min_size = 2, time: 9.437473058700562, closed_table of size : 7780, cid_list_map of size : 6437\n",
      "peak memory: 98.27 MiB, increment: 5.56 MiB\n",
      "min_size = 3, time: 8.209215879440308, closed_table of size : 6887, cid_list_map of size : 6437\n"
     ]
    }
   ],
   "source": [
    "import time\n",
    "for min_size in range(4):\n",
    "    cs = CloStream(filter_fn = lambda e : len(e) > min_size)\n",
    "    start = time.time()\n",
    "    %memit cs.add_df(sample)\n",
    "    tot_time = time.time() - start\n",
    "    closed_table_size = len(cs.closed_table)#get_size(cs.closed_table) // 2**20\n",
    "    cid_list_size = len(cs.cid_list_map)#get_size(cs.cid_list_map) // 2**20\n",
    "    print('min_size = {}, time: {}, closed_table of size : {}, cid_list_map of size : {}'.format(min_size, tot_time, closed_table_size, cid_list_size))"
   ]
  },
  {
   "cell_type": "code",
   "execution_count": 28,
   "metadata": {},
   "outputs": [],
   "source": [
    "cs = CloStream(filter_fn= lambda e : len(e) > 3)"
   ]
  },
  {
   "cell_type": "code",
   "execution_count": 29,
   "metadata": {},
   "outputs": [],
   "source": [
    "cs.add_df(sample)"
   ]
  }
 ],
 "metadata": {
  "kernelspec": {
   "display_name": "Python 3",
   "language": "python",
   "name": "python3"
  },
  "language_info": {
   "codemirror_mode": {
    "name": "ipython",
    "version": 3
   },
   "file_extension": ".py",
   "mimetype": "text/x-python",
   "name": "python",
   "nbconvert_exporter": "python",
   "pygments_lexer": "ipython3",
   "version": "3.6.0"
  }
 },
 "nbformat": 4,
 "nbformat_minor": 2
}
